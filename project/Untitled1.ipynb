{
 "cells": [
  {
   "cell_type": "code",
   "execution_count": 13,
   "metadata": {},
   "outputs": [
    {
     "data": {
      "text/html": [
       "<div>\n",
       "<style scoped>\n",
       "    .dataframe tbody tr th:only-of-type {\n",
       "        vertical-align: middle;\n",
       "    }\n",
       "\n",
       "    .dataframe tbody tr th {\n",
       "        vertical-align: top;\n",
       "    }\n",
       "\n",
       "    .dataframe thead th {\n",
       "        text-align: right;\n",
       "    }\n",
       "</style>\n",
       "<table border=\"1\" class=\"dataframe\">\n",
       "  <thead>\n",
       "    <tr style=\"text-align: right;\">\n",
       "      <th></th>\n",
       "      <th>a</th>\n",
       "      <th>b</th>\n",
       "    </tr>\n",
       "  </thead>\n",
       "  <tbody>\n",
       "    <tr>\n",
       "      <th>0</th>\n",
       "      <td>[1, 2, 3]</td>\n",
       "      <td>[1, 2, 3]</td>\n",
       "    </tr>\n",
       "    <tr>\n",
       "      <th>1</th>\n",
       "      <td>[4, 5, 6, 7]</td>\n",
       "      <td>[4, 5, 9, 7]</td>\n",
       "    </tr>\n",
       "    <tr>\n",
       "      <th>2</th>\n",
       "      <td>[7, 8]</td>\n",
       "      <td>[7, 8]</td>\n",
       "    </tr>\n",
       "  </tbody>\n",
       "</table>\n",
       "</div>"
      ],
      "text/plain": [
       "              a             b\n",
       "0     [1, 2, 3]     [1, 2, 3]\n",
       "1  [4, 5, 6, 7]  [4, 5, 9, 7]\n",
       "2        [7, 8]        [7, 8]"
      ]
     },
     "execution_count": 13,
     "metadata": {},
     "output_type": "execute_result"
    }
   ],
   "source": [
    "import pandas as pd\n",
    "import numpy as np\n",
    "df = pd.DataFrame({'a': \n",
    "    [np.array([1, 2, 6]), \n",
    "     np.array([4, 5, 6, 7]), \n",
    "     np.array([7, 8])], \n",
    "                   'b': \n",
    "    [np.array([1, 2, 3]), \n",
    "     np.array([4, 5, 9, 7]), \n",
    "     np.array([2, 8])]\n",
    "})\n",
    "df"
   ]
  },
  {
   "cell_type": "code",
   "execution_count": 81,
   "metadata": {},
   "outputs": [
    {
     "data": {
      "text/plain": [
       "0       [1, 2, 6]\n",
       "1    [4, 5, 6, 7]\n",
       "2          [7, 8]\n",
       "Name: a, dtype: object"
      ]
     },
     "execution_count": 81,
     "metadata": {},
     "output_type": "execute_result"
    }
   ],
   "source": [
    "def get_row_mean(row, col):\n",
    "    value =  df.loc[row, col].mean()\n",
    "    return value.astype(float)\n",
    "\n",
    "def to_array(row, col):\n",
    "    ar = np.asarray(df.loc[row, col])\n",
    "    return ar\n",
    "\n",
    "\n",
    "\n"
   ]
  },
  {
   "cell_type": "code",
   "execution_count": 1,
   "metadata": {},
   "outputs": [
    {
     "data": {
      "text/html": [
       "<div>\n",
       "<style scoped>\n",
       "    .dataframe tbody tr th:only-of-type {\n",
       "        vertical-align: middle;\n",
       "    }\n",
       "\n",
       "    .dataframe tbody tr th {\n",
       "        vertical-align: top;\n",
       "    }\n",
       "\n",
       "    .dataframe thead th {\n",
       "        text-align: right;\n",
       "    }\n",
       "</style>\n",
       "<table border=\"1\" class=\"dataframe\">\n",
       "  <thead>\n",
       "    <tr style=\"text-align: right;\">\n",
       "      <th></th>\n",
       "      <th>a</th>\n",
       "      <th>b</th>\n",
       "    </tr>\n",
       "  </thead>\n",
       "  <tbody>\n",
       "    <tr>\n",
       "      <th>0</th>\n",
       "      <td>[-0.9258200997725514, -0.4629100498862757, 1.3...</td>\n",
       "      <td>[-1.224744871391589, 0.0, 1.224744871391589]</td>\n",
       "    </tr>\n",
       "    <tr>\n",
       "      <th>1</th>\n",
       "      <td>[-1.3416407864998738, -0.4472135954999579, 0.4...</td>\n",
       "      <td>[-1.171700198827415, -0.6509445549041194, 1.43...</td>\n",
       "    </tr>\n",
       "    <tr>\n",
       "      <th>2</th>\n",
       "      <td>[-1.0, 1.0]</td>\n",
       "      <td>[-1.0, 1.0]</td>\n",
       "    </tr>\n",
       "  </tbody>\n",
       "</table>\n",
       "</div>"
      ],
      "text/plain": [
       "                                                   a  \\\n",
       "0  [-0.9258200997725514, -0.4629100498862757, 1.3...   \n",
       "1  [-1.3416407864998738, -0.4472135954999579, 0.4...   \n",
       "2                                        [-1.0, 1.0]   \n",
       "\n",
       "                                                   b  \n",
       "0       [-1.224744871391589, 0.0, 1.224744871391589]  \n",
       "1  [-1.171700198827415, -0.6509445549041194, 1.43...  \n",
       "2                                        [-1.0, 1.0]  "
      ]
     },
     "execution_count": 1,
     "metadata": {},
     "output_type": "execute_result"
    }
   ],
   "source": [
    "import pandas as pd\n",
    "import numpy as np\n",
    "df = pd.DataFrame({'a': \n",
    "    [np.array([1, 2, 6]), \n",
    "     np.array([4, 5, 6, 7]), \n",
    "     np.array([7, 8])], \n",
    "                   'b': \n",
    "    [np.array([1, 2, 3]), \n",
    "     np.array([4, 5, 9, 7]), \n",
    "     np.array([2, 8])]\n",
    "})\n",
    "df\n",
    "\n",
    "def standardize(col):\n",
    "    return (df[col] - df[col].map(lambda x: x.mean()))/ df[col].map(lambda x: x.std())\n",
    "\n",
    "df['a'] = standardize('a')\n",
    "df['b'] = standardize('b')\n",
    "df"
   ]
  },
  {
   "cell_type": "code",
   "execution_count": 2,
   "metadata": {},
   "outputs": [
    {
     "data": {
      "text/html": [
       "<div>\n",
       "<style scoped>\n",
       "    .dataframe tbody tr th:only-of-type {\n",
       "        vertical-align: middle;\n",
       "    }\n",
       "\n",
       "    .dataframe tbody tr th {\n",
       "        vertical-align: top;\n",
       "    }\n",
       "\n",
       "    .dataframe thead th {\n",
       "        text-align: right;\n",
       "    }\n",
       "</style>\n",
       "<table border=\"1\" class=\"dataframe\">\n",
       "  <thead>\n",
       "    <tr style=\"text-align: right;\">\n",
       "      <th></th>\n",
       "      <th>a</th>\n",
       "      <th>b</th>\n",
       "    </tr>\n",
       "  </thead>\n",
       "  <tbody>\n",
       "    <tr>\n",
       "      <th>0</th>\n",
       "      <td>[-0.9258200997725514, -0.4629100498862757, 1.3...</td>\n",
       "      <td>[-1.2247448713915892, 0.0, 1.2247448713915892]</td>\n",
       "    </tr>\n",
       "    <tr>\n",
       "      <th>1</th>\n",
       "      <td>[-1.3416407864998738, -0.4472135954999579, 0.4...</td>\n",
       "      <td>[-1.171700198827415, -0.6509445549041194, 1.43...</td>\n",
       "    </tr>\n",
       "    <tr>\n",
       "      <th>2</th>\n",
       "      <td>[-1.0, 1.0]</td>\n",
       "      <td>[-1.0, 1.0]</td>\n",
       "    </tr>\n",
       "  </tbody>\n",
       "</table>\n",
       "</div>"
      ],
      "text/plain": [
       "                                                   a  \\\n",
       "0  [-0.9258200997725514, -0.4629100498862757, 1.3...   \n",
       "1  [-1.3416407864998738, -0.4472135954999579, 0.4...   \n",
       "2                                        [-1.0, 1.0]   \n",
       "\n",
       "                                                   b  \n",
       "0     [-1.2247448713915892, 0.0, 1.2247448713915892]  \n",
       "1  [-1.171700198827415, -0.6509445549041194, 1.43...  \n",
       "2                                        [-1.0, 1.0]  "
      ]
     },
     "execution_count": 2,
     "metadata": {},
     "output_type": "execute_result"
    }
   ],
   "source": [
    "def standardize(col):\n",
    "    df[col] =  df[col].apply(lambda x: np.array(x))\n",
    "    return (df[col] - df[col].map(lambda x: x.mean()))/ df[col].map(lambda x: x.std())\n",
    "\n",
    "df['a'] = standardize('a')\n",
    "df['b'] = standardize('b')\n",
    "df"
   ]
  },
  {
   "cell_type": "code",
   "execution_count": 4,
   "metadata": {},
   "outputs": [
    {
     "name": "stdout",
     "output_type": "stream",
     "text": [
      "-1.3416407864998738\n"
     ]
    },
    {
     "data": {
      "text/plain": [
       "0    [-0.9258200997725514, -0.4629100498862757, 1.3...\n",
       "1    [-1.3416407864998738, -0.4472135954999579, 0.4...\n",
       "2                                          [-1.0, 1.0]\n",
       "Name: a, dtype: object"
      ]
     },
     "execution_count": 4,
     "metadata": {},
     "output_type": "execute_result"
    }
   ],
   "source": [
    "print(min(df['a'].map(lambda x: x.min())))\n",
    "df['a']"
   ]
  },
  {
   "cell_type": "code",
   "execution_count": 94,
   "metadata": {},
   "outputs": [
    {
     "name": "stdout",
     "output_type": "stream",
     "text": [
      "[-0.9258201  -0.46291005  1.38873015]\n",
      "[-1.34164079 -0.4472136   0.4472136   1.34164079]\n",
      "[-1.  1.]\n"
     ]
    }
   ],
   "source": [
    "print(df['a'][0])\n",
    "print(df['a'][1])\n",
    "print(df['a'][2])"
   ]
  },
  {
   "cell_type": "code",
   "execution_count": 99,
   "metadata": {},
   "outputs": [
    {
     "name": "stdout",
     "output_type": "stream",
     "text": [
      "[-1.22474487  0.          1.22474487]\n",
      "[-1.1717002  -0.65094455  1.43207802  0.39056673]\n",
      "[-1.  1.]\n"
     ]
    },
    {
     "data": {
      "text/plain": [
       "-1.224744871391589"
      ]
     },
     "execution_count": 99,
     "metadata": {},
     "output_type": "execute_result"
    }
   ],
   "source": [
    "print(df['b'][0])\n",
    "print(df['b'][1])\n",
    "print(df['b'][2])\n",
    "min(df['b'].map(lambda x: x.min()))"
   ]
  },
  {
   "cell_type": "code",
   "execution_count": null,
   "metadata": {},
   "outputs": [],
   "source": []
  }
 ],
 "metadata": {
  "kernelspec": {
   "display_name": "Python 3",
   "language": "python",
   "name": "python3"
  },
  "language_info": {
   "codemirror_mode": {
    "name": "ipython",
    "version": 3
   },
   "file_extension": ".py",
   "mimetype": "text/x-python",
   "name": "python",
   "nbconvert_exporter": "python",
   "pygments_lexer": "ipython3",
   "version": "3.7.9"
  }
 },
 "nbformat": 4,
 "nbformat_minor": 4
}
